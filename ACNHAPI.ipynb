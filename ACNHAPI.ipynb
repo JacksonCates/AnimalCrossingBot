{
 "cells": [
  {
   "cell_type": "code",
   "execution_count": 1,
   "metadata": {},
   "outputs": [
    {
     "data": {
      "text/plain": [
       "200"
      ]
     },
     "execution_count": 1,
     "metadata": {},
     "output_type": "execute_result"
    }
   ],
   "source": [
    "import requests\n",
    "\n",
    "url = \"https://jokeapi-v2.p.rapidapi.com/joke/Pun?safe-mode\"\n",
    "\n",
    "querystring = {\"lang\":\"en\"}\n",
    "headers = {\n",
    "    'x-rapidapi-key': \"cdea033201msh6250e709b212f70p1a6f4bjsnb07abca0bdf7\",\n",
    "    'x-rapidapi-host': \"jokeapi-v2.p.rapidapi.com\"\n",
    "    }\n",
    "response = requests.get(url, headers=headers, params=querystring)\n",
    "response.status_code"
   ]
  },
  {
   "cell_type": "code",
   "execution_count": 3,
   "metadata": {},
   "outputs": [
    {
     "data": {
      "text/plain": [
       "['What did the cell say when his sister cell stepped on his foot?', 'Mitosis.']"
      ]
     },
     "execution_count": 3,
     "metadata": {},
     "output_type": "execute_result"
    }
   ],
   "source": [
    "import joke_repos\n",
    "joke = await joke_repos.get_joke()\n",
    "joke.msgs"
   ]
  },
  {
   "cell_type": "code",
   "execution_count": null,
   "metadata": {},
   "outputs": [],
   "source": []
  }
 ],
 "metadata": {
  "interpreter": {
   "hash": "37fecfc2a9593f695bce63190ddf5c905652d33afc889827ba3c9227ea11cda9"
  },
  "kernelspec": {
   "display_name": "Python 3.9.5 64-bit",
   "name": "python3"
  },
  "language_info": {
   "codemirror_mode": {
    "name": "ipython",
    "version": 3
   },
   "file_extension": ".py",
   "mimetype": "text/x-python",
   "name": "python",
   "nbconvert_exporter": "python",
   "pygments_lexer": "ipython3",
   "version": "3.9.6"
  },
  "orig_nbformat": 4
 },
 "nbformat": 4,
 "nbformat_minor": 2
}
